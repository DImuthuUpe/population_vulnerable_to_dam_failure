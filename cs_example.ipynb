{
 "cells": [
  {
   "cell_type": "code",
   "execution_count": 1,
   "id": "5586c3af-6cae-48a0-95cd-1de9fb7d481e",
   "metadata": {},
   "outputs": [],
   "source": [
    "import sys\n",
    "sys.path.append('/')\n",
    "import airavata_magics\n",
    "airavata_magics.load_ipython_extension(get_ipython())"
   ]
  },
  {
   "cell_type": "code",
   "execution_count": 2,
   "id": "73cded0b-d6c9-4c20-93ed-51b663111ae3",
   "metadata": {},
   "outputs": [
    {
     "name": "stdout",
     "output_type": "stream",
     "text": [
      "User code: FHBT-VCJN\n",
      "Please authenticate by visiting: https://auth.cybershuttle.org/realms/10000000/device?user_code=FHBT-VCJN\n",
      "Authorization pending, retrying...\n",
      "Authorization pending, retrying...\n",
      "Authorization pending, retrying...\n",
      "Received access token\n"
     ]
    }
   ],
   "source": [
    "%cs_login"
   ]
  },
  {
   "cell_type": "code",
   "execution_count": null,
   "id": "e72f6a9f-4a23-4985-a136-230a96203a00",
   "metadata": {},
   "outputs": [],
   "source": [
    "%init_remote cluster=js-156-93.jetstream-cloud.org cpu=1 queue=cloud walltime=60"
   ]
  },
  {
   "cell_type": "code",
   "execution_count": null,
   "id": "bdb22e9a-9b89-4bf3-b096-c42ddd71ff67",
   "metadata": {},
   "outputs": [],
   "source": [
    "%status_remote"
   ]
  },
  {
   "cell_type": "code",
   "execution_count": null,
   "id": "8fdfd0b7-9e81-4f28-89f6-f6902c820917",
   "metadata": {},
   "outputs": [],
   "source": [
    "%%run_remote\n",
    "a= 10\n",
    "print(a)"
   ]
  },
  {
   "cell_type": "code",
   "execution_count": null,
   "id": "279b5262-69a1-4841-837d-c2e5cb17258f",
   "metadata": {},
   "outputs": [],
   "source": []
  }
 ],
 "metadata": {
  "kernelspec": {
   "display_name": "Python 3 (ipykernel)",
   "language": "python",
   "name": "python3"
  },
  "language_info": {
   "codemirror_mode": {
    "name": "ipython",
    "version": 3
   },
   "file_extension": ".py",
   "mimetype": "text/x-python",
   "name": "python",
   "nbconvert_exporter": "python",
   "pygments_lexer": "ipython3",
   "version": "3.11.4"
  }
 },
 "nbformat": 4,
 "nbformat_minor": 5
}
